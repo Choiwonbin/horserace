{
 "cells": [
  {
   "cell_type": "code",
   "execution_count": 1,
   "metadata": {},
   "outputs": [],
   "source": [
    "import numpy as np\n",
    "import datetime\n",
    "import category_encoders as ce\n",
    "from sklearn.model_selection import train_test_split\n",
    "import xgboost as xgb\n",
    "import pymysql"
   ]
  },
  {
   "cell_type": "code",
   "execution_count": 4,
   "metadata": {},
   "outputs": [
    {
     "name": "stdout",
     "output_type": "stream",
     "text": [
      "[11 5 0 5 56.0 0 15.8 4 1700 9 33 1 0 0 0 0 0 0 1 0 0 0 0 0 0 0 0 0 0 0 0]\n",
      "2.872698370575555\n"
     ]
    }
   ],
   "source": [
    "# db = pymysql.connect(host=\"SERVER IP\", user=\"root\", passwd=\"PW\", db=\"horserace\", charset=\"utf8\")  # SQL 설정\n",
    "db = pymysql.connect(host=\"18.218.142.199\", user=\"root\", passwd=\"111111\",\n",
    "                     db=\"lets_run_park\", charset=\"utf8\")  # SQL 설정\n",
    "cursor = db.cursor()\n",
    "\n",
    "cursor.execute(\"select race_result.code, race_result.date, race_result.round, race_result.lane, race_result.sex, race_result.age,\\\n",
    "                race_result.jockey_w, race_result.rating, race_result.dandivi, race.weather, race.humidity, race.level, race.distance,\\\n",
    "                race.horses, horse.total from race_result, race, horse \\\n",
    "                where race_result.date = race.date and race_result.round = race.round and race_result.code = horse.code\")\n",
    "# 0-5/6-12/13-14\n",
    "# weather, level one-hot 필요.\n",
    "# one-hot 후보들: distance, lane, sex\n",
    "# 최근 3경기 결과, 최근 1개월 내 질병 여부, 거리별 승률 별도로 뽑을 것.\n",
    "\n",
    "df = np.array(cursor.fetchall())  # array 형태로 받음\n",
    "\n",
    "le = ce.OneHotEncoder(return_df=False, impute_missing=False, handle_unknown=\"ignore\")\n",
    "\n",
    "# test = np.array(['a','b','c', 'd']).reshape(-1,1)\n",
    "# print(le.fit_transform(test))\n",
    "\n",
    "df = np.append(df, le.fit_transform(df[:, 9]), axis=1)\n",
    "df = np.append(df, le.fit_transform(df[:, 11]), axis=1)\n",
    "df = np.delete(df, (0, 1, 9, 11), 1)  # index들이랑 one-hot한 column들 날림 - 제대로 되나 잘 모르겠음 ㅎㅎ;\n",
    "print(df[0])\n",
    "\n",
    "train, test = train_test_split(df, test_size=0.3, random_state=datetime.datetime.now().second)\n",
    "real = test[:, 0]\n",
    "train = xgb.DMatrix(train[:, 1:], label=train[:, 0])  # xgb에서 쓸 수 있게 자료형 변경\n",
    "test = xgb.DMatrix(test[:, 1:], label=test[:, 0])\n",
    "\n",
    "# 이제 xgboost 돌리자~\n",
    "param = {'max_depth': 2, 'eta': 1, 'gamma': 0, 'lambda': 1, 'silent': 1,\n",
    "         'objective': 'reg:linear'}  # parameter 설정: 공부 필요 - linear??? 만약 각 leaf에서 linear reg 추정이라면 one-hot할 게 훨씬 많아짐\n",
    "num_round = 2\n",
    "\n",
    "bst = xgb.train(param, train, num_round)  # train\n",
    "preds = bst.predict(test)  # test\n",
    "\n",
    "print(((preds - real) ** 2).mean() ** 0.5)  # rmse 출력"
   ]
  },
  {
   "cell_type": "code",
   "execution_count": null,
   "metadata": {},
   "outputs": [],
   "source": []
  }
 ],
 "metadata": {
  "kernelspec": {
   "display_name": "Python 3",
   "language": "python",
   "name": "python3"
  },
  "language_info": {
   "codemirror_mode": {
    "name": "ipython",
    "version": 3
   },
   "file_extension": ".py",
   "mimetype": "text/x-python",
   "name": "python",
   "nbconvert_exporter": "python",
   "pygments_lexer": "ipython3",
   "version": "3.6.5"
  }
 },
 "nbformat": 4,
 "nbformat_minor": 2
}
