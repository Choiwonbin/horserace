{
 "cells": [
  {
   "cell_type": "code",
   "execution_count": 9,
   "metadata": {},
   "outputs": [],
   "source": [
    "import pandas as pd\n",
    "import numpy as np\n",
    "from sklearn.model_selection import train_test_split\n",
    "import pymysql\n",
    "import tensorflow as tf\n",
    "import pandas.io.sql as psql"
   ]
  },
  {
   "cell_type": "code",
   "execution_count": 10,
   "metadata": {},
   "outputs": [],
   "source": [
    "con = pymysql.connect(host=\"18.218.142.199\", user=\"root\", passwd=\"111111\", db=\"race\", charset=\"utf8\")\n",
    "cursor = con.cursor()"
   ]
  },
  {
   "cell_type": "code",
   "execution_count": null,
   "metadata": {
    "collapsed": true
   },
   "outputs": [],
   "source": [
    "cursor = con.cursor()\n",
    "ban_script = (\"select * from ban limit 1000\")\n",
    "cure_script = (\"select * from cure limit 1000\")\n",
    "grade_script = (\"select * from grade limit 1000\")\n",
    "race_record_script = (\"select * from race_record limit 1000\")\n",
    "race_test_script = (\"select * from race_test limit 1000\")\n",
    "rider_script = (\"select * from rider limit 1000\")\n",
    "rider_bu_script = (\"select * from rider_bu limit 1000\")\n",
    "sudo_total_script = (\"select * from sudo_total limit 1000\")\n",
    "total_hn_bu_script = (\"select * from total_hn_bu limit 1000\")\n",
    "train_script = (\"select * from train limit 1000\")\n",
    "\n",
    "ban = psql.read_sql(ban_script, con)\n",
    "cure = psql.read_sql(cure_script, con)\n",
    "grade_script = psql.read_sql(grade_script, con)\n",
    "race_record = psql.read_sql(race_record_script, con)\n",
    "race_test = psql.read_sql(race_test_script, con)\n",
    "rider = psql.read_sql(rider_script, con)\n",
    "rider_bu = psql.read_sql(rider_bu_script, con)\n",
    "sudo_total = psql.read_sql(sudo_total_script, con)\n",
    "total_hn_bu = psql.read_sql(total_hn_bu_script, con)\n",
    "train = psql.read_sql(train_script, con)\n",
    "\n",
    "con.close()"
   ]
  },
  {
   "cell_type": "code",
   "execution_count": null,
   "metadata": {
    "collapsed": true
   },
   "outputs": [],
   "source": []
  }
 ],
 "metadata": {
  "kernelspec": {
   "display_name": "Python 3",
   "language": "python",
   "name": "python3"
  },
  "language_info": {
   "codemirror_mode": {
    "name": "ipython",
    "version": 3
   },
   "file_extension": ".py",
   "mimetype": "text/x-python",
   "name": "python",
   "nbconvert_exporter": "python",
   "pygments_lexer": "ipython3",
   "version": "3.6.3"
  }
 },
 "nbformat": 4,
 "nbformat_minor": 2
}
